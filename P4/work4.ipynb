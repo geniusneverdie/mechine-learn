{
 "cells": [
  {
   "cell_type": "markdown",
   "metadata": {},
   "source": [
    "# 机器学习作业四\n",
    "- 姓名：艾明旭\n",
    "- 学号：2111033\n",
    "- 专业：信息安全"
   ]
  },
  {
   "cell_type": "markdown",
   "metadata": {},
   "source": [
    "## 实验要求\n",
    "截止日期：11月17日\n",
    "以学号+姓名(4)的命名形式打包实验代码+实验报告，发送到邮箱2120230658@mail.nankai.edu.cn\n",
    "#### 数据集\n",
    "Most Popular Data Set中的wine数据集（对意大利同一地区声场的三种不同品种的酒做大量分析所得出的数据）\n",
    "#### 基本要求\n",
    "采用分层采样的方式将数据集划分为训练集和测试集。 \n",
    "给定编写一个朴素贝叶斯分类器，对测试集进行预测，计算分类准确率。\n",
    "#### 中级要求：使用测试集评估模型，得到混淆矩阵，精度，召回率，F值。\n",
    "#### 高级要求：在中级要求的基础上画出三类数据的ROC曲线，并求出AUC值。\n",
    "#### 拓展要求：浅谈ROC曲线和AUC值作为分类评价的合理性。"
   ]
  },
  {
   "cell_type": "code",
   "execution_count": 69,
   "id": "a253736d-df18-4be8-80d8-5b7589da0a3e",
   "metadata": {},
   "outputs": [],
   "source": [
    "import math\n",
    "import numpy as np  \n",
    "import pandas as pd\n",
    "import random\n",
    "import csv\n",
    "import operator\n",
    "import matplotlib.pyplot as plt"
   ]
  },
  {
   "cell_type": "markdown",
   "metadata": {},
   "source": [
    "导入相应的包"
   ]
  },
  {
   "cell_type": "code",
   "execution_count": 70,
   "id": "d02dd812-4854-432f-838c-b104d428ec6f",
   "metadata": {},
   "outputs": [],
   "source": [
    "f = open('D:\\dasanshang\\jiqixuexi\\P4\\wine.data','r')\n",
    "types = [[],[],[]]                      #按类分的所有数据\n",
    "test_data = [[],[],[]]\n",
    "train_data = [[],[],[]]\n",
    "data_num = 0                            #数据总数\n",
    "test_len = []                           #测试集里每一类的个数\n",
    "means = [[],[],[]]                      #每一类的均值\n",
    "std = [[],[],[]]                        #每一类的标准差"
   ]
  },
  {
   "cell_type": "markdown",
   "metadata": {},
   "source": [
    "对测试集，训练集进行初始化，并且进行了means,std等向量的初始化。"
   ]
  },
  {
   "cell_type": "code",
   "execution_count": 71,
   "id": "e2574fa9-fd4e-4618-8d36-463b05215bf6",
   "metadata": {},
   "outputs": [],
   "source": [
    "myline = '1'\n",
    "while myline:\n",
    "    myline = f.readline().split(',')\n",
    "    if len(myline) != 14:\n",
    "        break\n",
    "#14为每列的数据个数，如果不是14，就认为读错了不读\n",
    "    for t in range(len(myline)):\n",
    "        if t != 0:\n",
    "            myline[t] = float(myline[t])\n",
    "        else:\n",
    "            myline[t] = int(myline[t])\n",
    "    temp = myline.pop(0)\n",
    "    types[temp - 1].append(myline)\n",
    "test_len = [round(len(types[i]) / 5) for i in range(3)] # 按照4:1的方式划分测试集和训练集，之后可以进行更改\n",
    "data_num = sum([len(types[i]) for i in range(3)])"
   ]
  },
  {
   "cell_type": "markdown",
   "metadata": {},
   "source": [
    "对每列的数据进行赋值，同样按照4：1的方式划分测试集和训练集，按照分成3类的方式将两个数据集合理的进行分类，得到合适的数据集。"
   ]
  },
  {
   "cell_type": "code",
   "execution_count": 72,
   "id": "4e3cba2e-117e-4789-beaf-f4cfe6ff5326",
   "metadata": {},
   "outputs": [
    {
     "name": "stdout",
     "output_type": "stream",
     "text": [
      "[13.2, 1.78, 2.14, 11.2, 100.0, 2.65, 2.76, 0.26, 1.28, 4.38, 1.05, 3.4, 1050.0]\n"
     ]
    }
   ],
   "source": [
    "print(types[0][1])"
   ]
  },
  {
   "cell_type": "code",
   "execution_count": 73,
   "id": "5c61f1cb-c324-460d-9ad4-81ad174ae1dd",
   "metadata": {},
   "outputs": [
    {
     "name": "stdout",
     "output_type": "stream",
     "text": [
      "[12, 14, 10]\n",
      "178\n"
     ]
    }
   ],
   "source": [
    "print(test_len)\n",
    "print(data_num)"
   ]
  },
  {
   "cell_type": "markdown",
   "metadata": {},
   "source": [
    "#### 进行分层采样"
   ]
  },
  {
   "cell_type": "code",
   "execution_count": 74,
   "id": "1e9c3b30-1b51-4520-90e5-7da24e28d866",
   "metadata": {},
   "outputs": [],
   "source": [
    "test_data[0] = random.sample(types[0], test_len[0])\n",
    "test_data[1] = random.sample(types[1], test_len[1])\n",
    "test_data[2] = random.sample(types[2], test_len[2])\n",
    "train_data[0] = [i for i in types[0] if i not in test_data[0]]\n",
    "train_data[1] = [i for i in types[1] if i not in test_data[1]]\n",
    "train_data[2] = [i for i in types[2] if i not in test_data[2]]"
   ]
  },
  {
   "cell_type": "code",
   "execution_count": 75,
   "id": "f72ed5ad-58ee-4d78-a703-2247122e04a8",
   "metadata": {},
   "outputs": [
    {
     "name": "stdout",
     "output_type": "stream",
     "text": [
      "[[13.34, 0.94, 2.36, 17.0, 110.0, 2.53, 1.3, 0.55, 0.42, 3.17, 1.02, 1.93, 750.0], [12.6, 1.34, 1.9, 18.5, 88.0, 1.45, 1.36, 0.29, 1.35, 2.45, 1.04, 2.77, 562.0], [12.37, 1.17, 1.92, 19.6, 78.0, 2.11, 2.0, 0.27, 1.04, 4.68, 1.12, 3.48, 510.0], [12.72, 1.81, 2.2, 18.8, 86.0, 2.2, 2.53, 0.26, 1.77, 3.9, 1.16, 3.14, 714.0], [13.03, 0.9, 1.71, 16.0, 86.0, 1.95, 2.03, 0.24, 1.46, 4.6, 1.19, 2.48, 392.0], [12.21, 1.19, 1.75, 16.8, 151.0, 1.85, 1.28, 0.14, 2.5, 2.85, 1.28, 3.07, 718.0], [12.29, 2.83, 2.22, 18.0, 88.0, 2.45, 2.25, 0.25, 1.99, 2.15, 1.15, 3.3, 290.0], [12.37, 1.07, 2.1, 18.5, 88.0, 3.52, 3.75, 0.24, 1.95, 4.5, 1.04, 2.77, 660.0], [12.22, 1.29, 1.94, 19.0, 92.0, 2.36, 2.04, 0.39, 2.08, 2.7, 0.86, 3.02, 312.0], [12.72, 1.75, 2.28, 22.5, 84.0, 1.38, 1.76, 0.48, 1.63, 3.3, 0.88, 2.42, 488.0], [11.87, 4.31, 2.39, 21.0, 82.0, 2.86, 3.03, 0.21, 2.91, 2.8, 0.75, 3.64, 380.0], [12.08, 1.13, 2.51, 24.0, 78.0, 2.0, 1.58, 0.4, 1.4, 2.2, 1.31, 2.72, 630.0], [11.84, 0.89, 2.58, 18.0, 94.0, 2.2, 2.21, 0.22, 2.35, 3.05, 0.79, 3.08, 520.0], [12.29, 1.61, 2.21, 20.4, 103.0, 1.1, 1.02, 0.37, 1.46, 3.05, 0.906, 1.82, 870.0]]\n",
      "[[12.88, 2.99, 2.4, 20.0, 104.0, 1.3, 1.22, 0.24, 0.83, 5.4, 0.74, 1.42, 530.0], [12.81, 2.31, 2.4, 24.0, 98.0, 1.15, 1.09, 0.27, 0.83, 5.7, 0.66, 1.36, 560.0], [12.7, 3.55, 2.36, 21.5, 106.0, 1.7, 1.2, 0.17, 0.84, 5.0, 0.78, 1.29, 600.0], [12.51, 1.24, 2.25, 17.5, 85.0, 2.0, 0.58, 0.6, 1.25, 5.45, 0.75, 1.51, 650.0], [12.25, 4.72, 2.54, 21.0, 89.0, 1.38, 0.47, 0.53, 0.8, 3.85, 0.75, 1.27, 720.0], [12.53, 5.51, 2.64, 25.0, 96.0, 1.79, 0.6, 0.63, 1.1, 5.0, 0.82, 1.69, 515.0], [13.49, 3.59, 2.19, 19.5, 88.0, 1.62, 0.48, 0.58, 0.88, 5.7, 0.81, 1.82, 580.0], [12.93, 2.81, 2.7, 21.0, 96.0, 1.54, 0.5, 0.53, 0.75, 4.6, 0.77, 2.31, 600.0], [13.36, 2.56, 2.35, 20.0, 89.0, 1.4, 0.5, 0.37, 0.64, 5.6, 0.7, 2.47, 780.0], [13.52, 3.17, 2.72, 23.5, 97.0, 1.55, 0.52, 0.5, 0.55, 4.35, 0.89, 2.06, 520.0], [13.62, 4.95, 2.35, 20.0, 92.0, 2.0, 0.8, 0.47, 1.02, 4.4, 0.91, 2.05, 550.0], [13.16, 3.57, 2.15, 21.0, 102.0, 1.5, 0.55, 0.43, 1.3, 4.0, 0.6, 1.68, 830.0], [13.88, 5.04, 2.23, 20.0, 80.0, 0.98, 0.34, 0.4, 0.68, 4.9, 0.58, 1.33, 415.0], [12.87, 4.61, 2.48, 21.5, 86.0, 1.7, 0.65, 0.47, 0.86, 7.65, 0.54, 1.86, 625.0], [13.5, 3.12, 2.62, 24.0, 123.0, 1.4, 1.57, 0.22, 1.25, 8.6, 0.59, 1.3, 500.0], [12.79, 2.67, 2.48, 22.0, 112.0, 1.48, 1.36, 0.24, 1.26, 10.8, 0.48, 1.47, 480.0], [13.23, 3.3, 2.28, 18.5, 98.0, 1.8, 0.83, 0.61, 1.87, 10.52, 0.56, 1.51, 675.0], [12.58, 1.29, 2.1, 20.0, 103.0, 1.48, 0.58, 0.53, 1.4, 7.6, 0.58, 1.55, 640.0], [13.17, 5.19, 2.32, 22.0, 93.0, 1.74, 0.63, 0.61, 1.55, 7.9, 0.6, 1.48, 725.0], [13.84, 4.12, 2.38, 19.5, 89.0, 1.8, 0.83, 0.48, 1.56, 9.01, 0.57, 1.64, 480.0], [12.45, 3.03, 2.64, 27.0, 97.0, 1.9, 0.58, 0.63, 1.14, 7.5, 0.67, 1.73, 880.0], [14.34, 1.68, 2.7, 25.0, 98.0, 2.8, 1.31, 0.53, 2.7, 13.0, 0.57, 1.96, 660.0], [13.48, 1.67, 2.64, 22.5, 89.0, 2.6, 1.1, 0.52, 2.29, 11.75, 0.57, 1.78, 620.0], [13.69, 3.26, 2.54, 20.0, 107.0, 1.83, 0.56, 0.5, 0.8, 5.88, 0.96, 1.82, 680.0], [12.85, 3.27, 2.58, 22.0, 106.0, 1.65, 0.6, 0.6, 0.96, 5.58, 0.87, 2.11, 570.0], [12.96, 3.45, 2.35, 18.5, 106.0, 1.39, 0.7, 0.4, 0.94, 5.28, 0.68, 1.75, 675.0], [13.78, 2.76, 2.3, 22.0, 90.0, 1.35, 0.68, 0.41, 1.03, 9.58, 0.7, 1.68, 615.0], [13.73, 4.36, 2.26, 22.5, 88.0, 1.28, 0.47, 0.52, 1.15, 6.62, 0.78, 1.75, 520.0], [13.45, 3.7, 2.6, 23.0, 111.0, 1.7, 0.92, 0.43, 1.46, 10.68, 0.85, 1.56, 695.0], [12.82, 3.37, 2.3, 19.5, 88.0, 1.48, 0.66, 0.4, 0.97, 10.26, 0.72, 1.75, 685.0], [13.58, 2.58, 2.69, 24.5, 105.0, 1.55, 0.84, 0.39, 1.54, 8.66, 0.74, 1.8, 750.0], [13.4, 4.6, 2.86, 25.0, 112.0, 1.98, 0.96, 0.27, 1.11, 8.5, 0.67, 1.92, 630.0], [12.77, 2.39, 2.28, 19.5, 86.0, 1.39, 0.51, 0.48, 0.64, 9.899999, 0.57, 1.63, 470.0], [14.16, 2.51, 2.48, 20.0, 91.0, 1.68, 0.7, 0.44, 1.24, 9.7, 0.62, 1.71, 660.0], [13.71, 5.65, 2.45, 20.5, 95.0, 1.68, 0.61, 0.52, 1.06, 7.7, 0.64, 1.74, 740.0], [13.4, 3.91, 2.48, 23.0, 102.0, 1.8, 0.75, 0.43, 1.41, 7.3, 0.7, 1.56, 750.0], [13.27, 4.28, 2.26, 20.0, 120.0, 1.59, 0.69, 0.43, 1.35, 10.2, 0.59, 1.56, 835.0], [13.17, 2.59, 2.37, 20.0, 120.0, 1.65, 0.68, 0.53, 1.46, 9.3, 0.6, 1.62, 840.0]]\n"
     ]
    }
   ],
   "source": [
    "print(test_data[1])\n",
    "print(train_data[2])"
   ]
  },
  {
   "cell_type": "code",
   "execution_count": 76,
   "id": "86e95fbd-80c2-420b-810a-abd0c60e9c29",
   "metadata": {},
   "outputs": [
    {
     "name": "stdout",
     "output_type": "stream",
     "text": [
      "[1.22428070e+01 2.01736842e+00 2.26859649e+00 2.05052632e+01\n",
      " 9.48245614e+01 2.28807018e+00 2.09824561e+00 3.77368421e-01\n",
      " 1.60421053e+00 3.04824561e+00 1.06140351e+00 2.77403509e+00\n",
      " 5.10333333e+02]\n"
     ]
    }
   ],
   "source": [
    "print(np.mean(train_data[1], axis = 0))"
   ]
  },
  {
   "cell_type": "markdown",
   "metadata": {},
   "source": [
    "#### 进行贝叶斯预测的操作，可以将算法经过一定的处理得到更加准确的结果\n",
    "贝叶斯公式：给出了从先验概率计算后验概率的方法。\n",
    "                                                    \n",
    "\n",
    "P(c|x)：后验概率（在给定样本x的条件下，属于类别c的概率）。\n",
    "P(x|c)：假设在c类下，观察到样本x的概率。模式特征𝑥的似然函数（特征x来自于类别c的可能性）。\n",
    "P(c)：样本为类别c的先验概率。在实际应用中，先验概率都是未知的，只能通过背景知识、训练数据等来估计这些概率。这也是贝叶斯方法的难处之一。\n",
    "𝑃(𝑥)：归一化的证据因子(比例因子)。\n",
    "NB是贝叶斯分类器较为实用的一种，为了减少计算量，朴素贝叶斯分类器假定：在给定目标值时，各个属性之间相互独立。那么，属性 x_1,x_2,⋯,x_D的联合概率等于每个单独属性概率的乘积。\n",
    "\n",
    "c_MAP=argmax_c_k∈CP(x|c_k)P(c_k)\n",
    "\n",
    "P(x│c_k)=∏_d=1^D▒P(x_d|c_k)\n",
    "\n",
    "c_MAP=argmax_c_k∈C∏_d=1^D▒P(x_d|c_k)P(c_k)\n"
   ]
  },
  {
   "cell_type": "code",
   "execution_count": 77,
   "id": "74c3bc16-0a44-450a-ae56-ea385fccd7c0",
   "metadata": {},
   "outputs": [],
   "source": [
    "means[0] = np.mean(train_data[0], axis = 0)\n",
    "std[0] = np.std(train_data[0], axis = 0)\n",
    "\n",
    "means[1] = np.mean(train_data[1], axis = 0)\n",
    "std[1] = np.std(train_data[1], axis = 0)\n",
    "\n",
    "means[2] = np.mean(train_data[2], axis = 0)\n",
    "std[2] = np.std(train_data[2], axis = 0)"
   ]
  },
  {
   "cell_type": "code",
   "execution_count": 78,
   "id": "36d3e3f3-4114-4d97-a2e6-1fff9b3e5094",
   "metadata": {},
   "outputs": [
    {
     "name": "stdout",
     "output_type": "stream",
     "text": [
      "[1.22428070e+01 2.01736842e+00 2.26859649e+00 2.05052632e+01\n",
      " 9.48245614e+01 2.28807018e+00 2.09824561e+00 3.77368421e-01\n",
      " 1.60421053e+00 3.04824561e+00 1.06140351e+00 2.77403509e+00\n",
      " 5.10333333e+02]\n"
     ]
    }
   ],
   "source": [
    "print(means[1])"
   ]
  },
  {
   "cell_type": "code",
   "execution_count": 79,
   "id": "1ae49c2e-2f6c-46b6-9ee1-b59f587d8348",
   "metadata": {},
   "outputs": [
    {
     "name": "stdout",
     "output_type": "stream",
     "text": [
      "10\n"
     ]
    }
   ],
   "source": [
    "print(len(test_data[2]))"
   ]
  },
  {
   "cell_type": "code",
   "execution_count": 80,
   "id": "0aeeb1f1-293a-4ecb-9e2c-0ff6e16012c0",
   "metadata": {},
   "outputs": [
    {
     "name": "stdout",
     "output_type": "stream",
     "text": [
      "142\n"
     ]
    }
   ],
   "source": [
    "train_len = len(train_data[0]) + len(train_data[1]) + len(train_data[2])\n",
    "print(train_len)"
   ]
  },
  {
   "cell_type": "code",
   "execution_count": 81,
   "id": "1ed8f279-413f-438e-b52e-8578c3950d6b",
   "metadata": {},
   "outputs": [],
   "source": [
    "# 方便后面计算相应的评价指标\n",
    "true_type = []\n",
    "pred_type = []"
   ]
  },
  {
   "cell_type": "markdown",
   "metadata": {},
   "source": [
    "编写贝叶斯分类算法，这里的正例率和要求的数值是一个随数据集而确定的，利用均值和标准差，以及我们曾经使用过的LOG函数可以将操作变得比较方便，这里需要我们进行的操作就比较少了\n",
    "优点：计算简单、有稳定的分类效率\n",
    "缺点：\n",
    "需要估计类别的先验概率，且先验概率很多时候取决于假设，假设的模型可以有很多种，因此在某些时候会由于假设的先验模型不准确导致预测效果不佳。（通过目标值在训练数据中的频率来估计）。\n",
    "假设属性之间相互独立，这个假设在实际应用中往往是不成立的，在属性个数比较多或者属性之间相关性较大时，分类效果不好。而在属性相关性较小时，朴素贝叶斯性能最为良好；"
   ]
  },
  {
   "cell_type": "code",
   "execution_count": 82,
   "id": "9b315f83-cdb1-45f6-81e0-e41e77d69d06",
   "metadata": {},
   "outputs": [],
   "source": [
    "def bayes_classificate():\n",
    "    # 首先，分别计算训练集上三个类的均值和标准差\n",
    "    # 已经在上面计算完成\n",
    "    wrong_num = 0\n",
    "    pre_roc = []\n",
    "    w = 0\n",
    "    for i in range(3):\n",
    "        for t in test_data[i]:                  # 两层循环：从每一类取每一个测试样本\n",
    "            my_type = []\n",
    "            for j in range(3):\n",
    "                # 由于数据集中所有的属性都是连续值，连续值的似然估计可以按照高斯分布来计算：\n",
    "                # temp = ...\n",
    "                # 这里计算使用实验课上讲的取log\n",
    "                fir = 0\n",
    "                l = len(t)\n",
    "                for w in range(0, l):\n",
    "                    mid = 0\n",
    "                    mid += np.log(1 / (math.sqrt(2 * math.pi) * std[j][w]))\n",
    "                    mid -= 0.5 * (t[w] - means[j][w]) * (t[w] - means[j][w]) / (std[j][w] * std[j][w])\n",
    "                    fir += mid\n",
    "                    sec = math.log(len(train_data[j]) / train_len)\n",
    "                temp = fir + sec\n",
    "                \n",
    "                my_type.append(temp)                        # 这里将所有score保存\n",
    "                \n",
    "            print(my_type)\n",
    "            pre_type = my_type.index(max(my_type))          # 取分值最大的为预测类别\n",
    "            \n",
    "            pre_roc.append(my_type[pre_type])\n",
    "            true_type.append(i)\n",
    "            pred_type.append(pre_type)\n",
    "            if pre_type != i:                               # 统计错误数\n",
    "                wrong_num += 1\n",
    "    return wrong_num, pre_roc"
   ]
  },
  {
   "cell_type": "markdown",
   "metadata": {},
   "source": [
    "错误率可以进行输出从而可以进行检错的操作，这里需要我们进行的目标就可以方便的解决了，最终可以发现错误数有两个，证明正确率很高"
   ]
  },
  {
   "cell_type": "code",
   "execution_count": 83,
   "id": "5842c292-2cf0-4e99-9da3-8fdeda2b3528",
   "metadata": {},
   "outputs": [
    {
     "name": "stdout",
     "output_type": "stream",
     "text": [
      "[-12.97903667965747, -34.46422241427097, -73.84950015917543]\n",
      "[-15.75947109856885, -51.025147190736114, -126.7915790866195]\n",
      "[-12.924586122319957, -37.46347392536413, -93.5497667951129]\n",
      "[-14.456271235772126, -50.89884761572782, -106.80313099022833]\n",
      "[-32.99912945209581, -25.94311059754476, -80.44275699927897]\n",
      "[-15.635610264310312, -34.974678918977204, -97.34724465450995]\n",
      "[-19.974312549412726, -21.77427747961245, -62.99037660096246]\n",
      "[-14.799186783833214, -30.522062509688137, -95.22333823817056]\n",
      "[-15.936171827455656, -36.47765396124589, -71.7538165925924]\n",
      "[-16.58472437080605, -37.11167659791532, -103.09072946172651]\n",
      "[-19.763036261346276, -35.39172001221259, -72.43200088519868]\n",
      "[-17.39855150905739, -22.996394017197822, -81.29818302501769]\n",
      "[-43.900782932971794, -24.253333972499902, -29.952372496636603]\n",
      "[-42.933406329656016, -18.023942189698587, -38.025413089547456]\n",
      "[-35.31948222761951, -19.271902922162266, -63.50032627704956]\n",
      "[-21.389466844183097, -17.316366598326976, -62.57625524190432]\n",
      "[-36.36175132998891, -21.251007207767064, -55.0461684673622]\n",
      "[-52.78702544932607, -28.16936610015189, -75.98552276333854]\n",
      "[-32.929634796829106, -17.916538169000784, -68.82116853648665]\n",
      "[-26.111919052875788, -23.159135008792727, -106.4275861614123]\n",
      "[-37.18195024081025, -16.973838655068544, -53.99834209306433]\n",
      "[-45.18245817914065, -17.67720189653593, -28.626948021948888]\n",
      "[-46.62153816259201, -25.355720052480006, -96.61639798272698]\n",
      "[-46.25855062731467, -17.907938021935998, -47.68065963302047]\n",
      "[-34.81367499090489, -18.52587708101262, -55.484905894079134]\n",
      "[-52.899018146149544, -23.277950045725525, -22.931457110137185]\n",
      "[-56.518661079641326, -35.88582488831596, -24.323124267516405]\n",
      "[-54.82636524703127, -23.6580641303342, -18.719270839664798]\n",
      "[-69.21512201032778, -27.7433374662449, -16.903843047805772]\n",
      "[-66.65933036128841, -36.3845007182239, -16.497840723620538]\n",
      "[-73.05791450165377, -53.913848544844285, -17.155629017533805]\n",
      "[-53.22859306878758, -26.766434974286245, -23.1930656575078]\n",
      "[-59.94651541369415, -41.53607183133344, -19.536443088876933]\n",
      "[-65.44345179431635, -50.320375640672005, -17.463393248917203]\n",
      "[-68.48528996703735, -34.81284671101395, -15.558854378567018]\n",
      "[-60.867193733583456, -42.10864699124372, -12.348239734093484]\n",
      "2\n",
      "[-12.97903667965747, -15.75947109856885, -12.924586122319957, -14.456271235772126, -25.94311059754476, -15.635610264310312, -19.974312549412726, -14.799186783833214, -15.936171827455656, -16.58472437080605, -19.763036261346276, -17.39855150905739, -24.253333972499902, -18.023942189698587, -19.271902922162266, -17.316366598326976, -21.251007207767064, -28.16936610015189, -17.916538169000784, -23.159135008792727, -16.973838655068544, -17.67720189653593, -25.355720052480006, -17.907938021935998, -18.52587708101262, -22.931457110137185, -24.323124267516405, -18.719270839664798, -16.903843047805772, -16.497840723620538, -17.155629017533805, -23.1930656575078, -19.536443088876933, -17.463393248917203, -15.558854378567018, -12.348239734093484]\n",
      "[[-12.97903667965747, 0, 0, 0], [-15.75947109856885, 1, 0, 0], [-12.924586122319957, 2, 0, 0], [-14.456271235772126, 3, 0, 0], [-25.94311059754476, 4, 0, 1], [-15.635610264310312, 5, 0, 0], [-19.974312549412726, 6, 0, 0], [-14.799186783833214, 7, 0, 0], [-15.936171827455656, 8, 0, 0], [-16.58472437080605, 9, 0, 0], [-19.763036261346276, 10, 0, 0], [-17.39855150905739, 11, 0, 0], [-24.253333972499902, 12, 1, 1], [-18.023942189698587, 13, 1, 1], [-19.271902922162266, 14, 1, 1], [-17.316366598326976, 15, 1, 1], [-21.251007207767064, 16, 1, 1], [-28.16936610015189, 17, 1, 1], [-17.916538169000784, 18, 1, 1], [-23.159135008792727, 19, 1, 1], [-16.973838655068544, 20, 1, 1], [-17.67720189653593, 21, 1, 1], [-25.355720052480006, 22, 1, 1], [-17.907938021935998, 23, 1, 1], [-18.52587708101262, 24, 1, 1], [-22.931457110137185, 25, 1, 2], [-24.323124267516405, 26, 2, 2], [-18.719270839664798, 27, 2, 2], [-16.903843047805772, 28, 2, 2], [-16.497840723620538, 29, 2, 2], [-17.155629017533805, 30, 2, 2], [-23.1930656575078, 31, 2, 2], [-19.536443088876933, 32, 2, 2], [-17.463393248917203, 33, 2, 2], [-15.558854378567018, 34, 2, 2], [-12.348239734093484, 35, 2, 2]]\n"
     ]
    }
   ],
   "source": [
    "wrong_num, pre_roc = bayes_classificate()\n",
    "last_roc = []\n",
    "for i in range(0, len(pre_roc)):\n",
    "    mid = []\n",
    "    mid.append(pre_roc[i])\n",
    "    mid.append(i)\n",
    "    mid.append(true_type[i])\n",
    "    mid.append(pred_type[i])\n",
    "    last_roc.append(mid)\n",
    "print(wrong_num)\n",
    "print(pre_roc)\n",
    "print(last_roc)"
   ]
  },
  {
   "cell_type": "code",
   "execution_count": 84,
   "id": "8ead0582-4e93-4a06-b69a-bf854f9bc5e9",
   "metadata": {},
   "outputs": [
    {
     "name": "stdout",
     "output_type": "stream",
     "text": [
      "[0, 0, 0, 0, 0, 0, 0, 0, 0, 0, 0, 0, 1, 1, 1, 1, 1, 1, 1, 1, 1, 1, 1, 1, 1, 1, 2, 2, 2, 2, 2, 2, 2, 2, 2, 2]\n",
      "[0, 0, 0, 0, 1, 0, 0, 0, 0, 0, 0, 0, 1, 1, 1, 1, 1, 1, 1, 1, 1, 1, 1, 1, 1, 2, 2, 2, 2, 2, 2, 2, 2, 2, 2, 2]\n"
     ]
    }
   ],
   "source": [
    "print(true_type)\n",
    "print(pred_type)"
   ]
  },
  {
   "cell_type": "markdown",
   "metadata": {},
   "source": [
    "计算混淆矩阵，这里先初始化为全0，之后对于每个相应的位置，在预测位进行判断之后改变混淆矩阵的值"
   ]
  },
  {
   "attachments": {
    "image.png": {
     "image/png": "[encoded data removed]"
    }
   },
   "cell_type": "markdown",
   "metadata": {},
   "source": [
    "![image.png](attachment:image.png)"
   ]
  },
  {
   "cell_type": "code",
   "execution_count": 85,
   "id": "23c576d2-40ba-4e7b-8b99-064ec1c5f291",
   "metadata": {},
   "outputs": [],
   "source": [
    "def confuse_maxtria(predict, fact):\n",
    "    confuse = [[0, 0, 0], [0, 0, 0], [0, 0, 0]]\n",
    "    for i in range(len(predict)):\n",
    "        confuse[fact[i] - 1][predict[i] - 1] += 1\n",
    "    return confuse"
   ]
  },
  {
   "cell_type": "code",
   "execution_count": 86,
   "id": "2252e088-010f-44e9-96fd-663d920ccb2a",
   "metadata": {},
   "outputs": [
    {
     "name": "stdout",
     "output_type": "stream",
     "text": [
      "混淆矩阵的计算结果是:\n",
      " [[13  1  0]\n",
      " [ 0 10  0]\n",
      " [ 1  0 11]]\n"
     ]
    }
   ],
   "source": [
    "print(\"混淆矩阵的计算结果是:\\n\", np.array(confuse_maxtria(pred_type, true_type)))\n",
    "# 行是实际值，列是预测值"
   ]
  },
  {
   "cell_type": "markdown",
   "metadata": {},
   "source": [
    "在feature函数当中，我们可以对特征值的要求进行计算，这里我们根据定义，可以很方便的计算出精度，召回率，F值等等操作"
   ]
  },
  {
   "cell_type": "code",
   "execution_count": 87,
   "id": "3fc0d9d2-1591-4736-8a93-8fea546e659b",
   "metadata": {},
   "outputs": [],
   "source": [
    "def feature(confuse_maxtria):\n",
    "    for index in range(len(confuse_maxtria)):\n",
    "        truth = confuse_maxtria[index][index]\n",
    "        total = 0\n",
    "        total2 = 0\n",
    "        for i in range(len(confuse_maxtria)):\n",
    "            total += confuse_maxtria[i][index]\n",
    "        for i in range(len(confuse_maxtria)):\n",
    "            total2 += confuse_maxtria[index][i]\n",
    "        precision = truth / total\n",
    "        recall = truth / total2\n",
    "        f_rate = 2 * precision * recall / (precision + recall)\n",
    "        print(\"类别\", index + 1, \"的精度为\", precision, \"，召回率的计算结果为\", recall, \"，F值为\", f_rate)"
   ]
  },
  {
   "cell_type": "code",
   "execution_count": 88,
   "id": "c419608d-a17b-495e-a2d2-f7da093ca7f2",
   "metadata": {},
   "outputs": [
    {
     "name": "stdout",
     "output_type": "stream",
     "text": [
      "类别 1 的精度为 0.9285714285714286 ，召回率的计算结果为 0.9285714285714286 ，F值为 0.9285714285714286\n",
      "类别 2 的精度为 0.9090909090909091 ，召回率的计算结果为 1.0 ，F值为 0.9523809523809523\n",
      "类别 3 的精度为 1.0 ，召回率的计算结果为 0.9166666666666666 ，F值为 0.9565217391304348\n"
     ]
    }
   ],
   "source": [
    "feature(confuse_maxtria(pred_type, true_type))"
   ]
  },
  {
   "cell_type": "code",
   "execution_count": 89,
   "id": "b1d89990-4771-4fbe-9f6f-ef7e9165da5b",
   "metadata": {},
   "outputs": [],
   "source": [
    "def roc_sort(roc):\n",
    "    for i in range(1, len(roc)):\n",
    "        for j in range(0, len(roc) - i):\n",
    "            if roc[j+1][0] > roc[j ][0]:   #升序用>，降序用<\n",
    "                roc[j], roc[j + 1] = roc[j + 1], roc[j]\n",
    "    return roc"
   ]
  },
  {
   "cell_type": "markdown",
   "metadata": {},
   "source": [
    "### ROC曲线的计算\n",
    "AUC是与TPR和FPR密切相关的,而TPR和FPR分别从正例,负例的角度上去衡量了模型的分类能力(具有跟精准率和召回率一样的能在样本极端不平衡的情况下进行有效的衡量优势),因此在样本极端不平衡的情况下,AUC依然能够做出合理的评价."
   ]
  },
  {
   "cell_type": "code",
   "execution_count": 90,
   "id": "56fd2644-d507-4556-ad3c-6ed51f8958b6",
   "metadata": {},
   "outputs": [
    {
     "name": "stdout",
     "output_type": "stream",
     "text": [
      "[[-12.924586122319957, 2, 0, 0], [-12.97903667965747, 0, 0, 0], [-14.456271235772126, 3, 0, 0], [-14.799186783833214, 7, 0, 0], [-15.635610264310312, 5, 0, 0], [-15.75947109856885, 1, 0, 0], [-15.936171827455656, 8, 0, 0], [-16.58472437080605, 9, 0, 0], [-17.39855150905739, 11, 0, 0], [-19.763036261346276, 10, 0, 0], [-19.974312549412726, 6, 0, 0], [-25.94311059754476, 4, 0, 1]]\n",
      "12\n",
      "[[-16.973838655068544, 20, 1, 1], [-17.316366598326976, 15, 1, 1], [-17.67720189653593, 21, 1, 1], [-17.907938021935998, 23, 1, 1], [-17.916538169000784, 18, 1, 1], [-18.023942189698587, 13, 1, 1], [-18.52587708101262, 24, 1, 1], [-19.271902922162266, 14, 1, 1], [-21.251007207767064, 16, 1, 1], [-22.931457110137185, 25, 1, 2], [-23.159135008792727, 19, 1, 1], [-24.253333972499902, 12, 1, 1], [-25.355720052480006, 22, 1, 1], [-28.16936610015189, 17, 1, 1]]\n",
      "14\n",
      "[[-12.348239734093484, 35, 2, 2], [-15.558854378567018, 34, 2, 2], [-16.497840723620538, 29, 2, 2], [-16.903843047805772, 28, 2, 2], [-17.155629017533805, 30, 2, 2], [-17.463393248917203, 33, 2, 2], [-18.719270839664798, 27, 2, 2], [-19.536443088876933, 32, 2, 2], [-23.1930656575078, 31, 2, 2], [-24.323124267516405, 26, 2, 2]]\n",
      "10\n"
     ]
    }
   ],
   "source": [
    "# 为按照`temp`的值排序做好准备\n",
    "# 四个值的意义\n",
    "# pre_roc[i]：预测的temp值，为了排序\n",
    "# i：序列号\n",
    "# true_type[i]：其真实的类型\n",
    "# pred_type[i]：其预测的类型\n",
    "roc1 = roc_sort(last_roc[0:test_len[0]])\n",
    "roc2 = roc_sort(last_roc[test_len[0]:(test_len[0] + test_len[1])])\n",
    "roc3 = roc_sort(last_roc[(test_len[0] + test_len[1]):(test_len[0] + test_len[1] + test_len[2])])\n",
    "# 按第一列谁最大排在第一位\n",
    "\n",
    "\n",
    "print(roc1)\n",
    "print(len(roc1))\n",
    "\n",
    "print(roc2)\n",
    "print(len(roc2))\n",
    "\n",
    "print(roc3)\n",
    "print(len(roc3))"
   ]
  },
  {
   "cell_type": "code",
   "execution_count": 91,
   "id": "5f2fe5c1-f236-4ed5-a194-2673bc503a63",
   "metadata": {},
   "outputs": [
    {
     "name": "stdout",
     "output_type": "stream",
     "text": [
      "类别 1 的TPR为 0.9285714285714286 TNR为 0.9523809523809523 FPR为 0.047619047619047616 FNR为 0.0714285714285714\n",
      "类别 2 的TPR为 1.0 TNR为 0.96 FPR为 0.04 FNR为 0.0\n",
      "类别 3 的TPR为 0.9166666666666666 TNR为 1.0 FPR为 0.0 FNR为 0.08333333333333337\n"
     ]
    }
   ],
   "source": [
    "# 计算命中率TPR和假报率FPR\n",
    "cm = confuse_maxtria(pred_type, true_type)\n",
    "TPR = []\n",
    "TNR = []\n",
    "FPR = []\n",
    "FNR = []\n",
    "for index in range(len(cm)):   \n",
    "    truth = cm[index][index]\n",
    "    fir = 0\n",
    "    sec_mot = np.sum(cm)\n",
    "    sec_son = 0\n",
    "    for i in range(len(cm)):\n",
    "        fir += cm[index][i]\n",
    "    for i in range(len(cm)):\n",
    "        sec_son += cm[i][index]\n",
    "    TPR.append(truth / fir)\n",
    "    TNR.append(1-(sec_son-truth)/(sec_mot-fir-sec_son+truth))\n",
    "    FPR.append((sec_son - truth) / (sec_mot - fir - sec_son + truth))\n",
    "    FNR.append(1-truth/fir)\n",
    "    print(\"类别\", index + 1, \"的TPR为\", TPR[index], \"TNR为\", TNR[index],\"FPR为\", FPR[index],\"FNR为\",FNR[index])"
   ]
  },
  {
   "cell_type": "markdown",
   "metadata": {},
   "source": [
    "这里我们可以计算出混淆矩阵的所有参数，并且运用其进行计算，尤其需要注意的是这里的TPR和FPR是我们对ROC曲线进行计算的必要参数，必须要计算。"
   ]
  },
  {
   "cell_type": "code",
   "execution_count": 92,
   "id": "f99683c7-7097-403b-961c-753a34c13ff8",
   "metadata": {},
   "outputs": [
    {
     "name": "stdout",
     "output_type": "stream",
     "text": [
      "[0, 0.08333333333333333, 0.16666666666666666, 0.25, 0.3333333333333333, 0.4166666666666667, 0.5, 0.5833333333333334, 0.6666666666666666, 0.75, 0.8333333333333334, 0.9166666666666666, 0.9166666666666666, 1]\n"
     ]
    }
   ],
   "source": [
    "TPRs0, TNRs0, FPRs0,FNRs0 = [], [],[],[]\n",
    "right0 = 0\n",
    "wrong0 = 0\n",
    "lenSum0 = test_len[0]\n",
    "TPRs0.append(0)\n",
    "TNRs0.append(0)\n",
    "FPRs0.append(0)\n",
    "FNRs0.append(0)\n",
    "for i in range(0, lenSum0):\n",
    "    if roc1[i][2] == roc1[i][3]:\n",
    "        right0 += 1\n",
    "    else:\n",
    "        wrong0 += 1\n",
    "    TPRs0.append(right0 / lenSum0)\n",
    "    TNRs0.append(1-wrong0/lenSum0)\n",
    "    FPRs0.append(wrong0 / lenSum0)\n",
    "    FNRs0.append(1-right0/lenSum0)\n",
    "TPRs0.append(1)\n",
    "TNRs0.append(1)\n",
    "FPRs0.append(1)\n",
    "FNRs0.append(1)\n",
    "print(TPRs0)"
   ]
  },
  {
   "cell_type": "code",
   "execution_count": 93,
   "id": "16ea9503-db35-4f30-a2f2-911f6249b6dd",
   "metadata": {},
   "outputs": [
    {
     "name": "stdout",
     "output_type": "stream",
     "text": [
      "[0, 1.0, 1.0, 1.0, 1.0, 1.0, 1.0, 1.0, 1.0, 1.0, 0.9285714285714286, 0.9285714285714286, 0.9285714285714286, 0.9285714285714286, 0.9285714285714286, 1]\n"
     ]
    }
   ],
   "source": [
    "TPRs1, TNRs1,FPRs1,FNRs1 = [], [],[], []\n",
    "right1 = 0\n",
    "wrong1 = 0\n",
    "lenSum1 = test_len[1]\n",
    "TPRs1.append(0)\n",
    "TNRs1.append(0)\n",
    "FPRs1.append(0)\n",
    "FNRs1.append(0)\n",
    "for i in range(0, lenSum1):\n",
    "    if roc2[i][2] == roc2[i][3]:\n",
    "        right1 += 1\n",
    "    else:\n",
    "        wrong1 += 1\n",
    "    TPRs1.append(right1 / lenSum1)\n",
    "    TNRs1.append(1-wrong1 / lenSum1)\n",
    "    FPRs1.append(wrong1 / lenSum1)\n",
    "    FNRs1.append(1-right1 / lenSum1)\n",
    "TPRs1.append(1)\n",
    "TNRs1.append(1)\n",
    "FPRs1.append(1)\n",
    "FNRs1.append(1)\n",
    "print(TNRs1)"
   ]
  },
  {
   "cell_type": "code",
   "execution_count": 94,
   "id": "cffedb90-e0bb-4a4f-8aa3-a1fa3d175727",
   "metadata": {},
   "outputs": [
    {
     "name": "stdout",
     "output_type": "stream",
     "text": [
      "[0, 0.9, 0.8, 0.7, 0.6, 0.5, 0.4, 0.30000000000000004, 0.19999999999999996, 0.09999999999999998, 0.09999999999999998, 1]\n"
     ]
    }
   ],
   "source": [
    "TPRs2, TNRs2,FPRs2,FNRs2 = [], [],[], []\n",
    "right2 = 0\n",
    "wrong2 = 0\n",
    "lenSum2 = test_len[2]\n",
    "TPRs2.append(0)\n",
    "TNRs2.append(0)\n",
    "FPRs2.append(0)\n",
    "FNRs2.append(0)\n",
    "for i in range(0, lenSum2):\n",
    "    if roc2[i][2] == roc2[i][3]:\n",
    "        right2 += 1\n",
    "    else:\n",
    "        wrong2 += 1\n",
    "    TPRs2.append(right2 / lenSum2)\n",
    "    TNRs2.append(1-wrong2 / lenSum2)\n",
    "    FPRs2.append(wrong2 / lenSum2)\n",
    "    FNRs2.append(1-right2 / lenSum2)\n",
    "TPRs2.append(1)\n",
    "TNRs2.append(1)\n",
    "FPRs2.append(1)\n",
    "FNRs2.append(1)\n",
    "print(FNRs2)"
   ]
  },
  {
   "cell_type": "code",
   "execution_count": 95,
   "id": "70685809-f405-43a5-b760-6669cfec0c96",
   "metadata": {},
   "outputs": [
    {
     "data": {
      "image/png": "[encoded data removed]",
      "text/plain": [
       "<Figure size 640x480 with 1 Axes>"
      ]
     },
     "metadata": {},
     "output_type": "display_data"
    }
   ],
   "source": [
    "plt.step(FPRs0, TPRs0, label=\"The first ROC's curvation\", color = '#00FF00')\n",
    "plt.step(FPRs1, TPRs1, label=\"The sencond ROC's curvation\", color = '#0000FF')\n",
    "plt.step(FPRs2, TPRs2, label=\"The third ROC's curvation\", color = '#FF0000')\n",
    "plt.plot(np.linspace(0, 1, 20), np.linspace(0, 1, 20))\n",
    "plt.xlabel(\"FPR\")\n",
    "plt.ylabel(\"TPR\")\n",
    "plt.xlim(-0.02, 1)\n",
    "plt.ylim(0, 1.05)\n",
    "plt.legend()\n",
    "plt.show()"
   ]
  },
  {
   "cell_type": "markdown",
   "metadata": {},
   "source": [
    "分别按要求计算出三组AUC的值，作为我们的所求"
   ]
  },
  {
   "cell_type": "code",
   "execution_count": 96,
   "id": "12ca89d6-7952-49f6-bd95-36169fd3f90d",
   "metadata": {},
   "outputs": [
    {
     "name": "stdout",
     "output_type": "stream",
     "text": [
      "第一类的AUC值为： 1.0763888888888888\n"
     ]
    }
   ],
   "source": [
    "# 为曲线与FPR轴的面积\n",
    "auc_area0 = 0\n",
    "for i in range(1, len(TPRs0)):\n",
    "    if FPRs0[i] != FPRs0[i - 1]:\n",
    "        l0 = 0\n",
    "        k0 = i\n",
    "        # 计算横轴长度\n",
    "        while(k0):\n",
    "            if FPRs0[k0] != FPRs0[k0 - 1]:\n",
    "                l0 += FPRs0[k0] - FPRs0[k0 - 1]\n",
    "                k0 -= 1\n",
    "            else:\n",
    "                break\n",
    "        auc_area0 += l0 * TPRs0[i] # 横轴乘纵轴\n",
    "print(\"第一类的AUC值为：\", auc_area0)"
   ]
  },
  {
   "cell_type": "code",
   "execution_count": 97,
   "id": "529fab74-5d36-4923-809b-bfac1d40fa88",
   "metadata": {},
   "outputs": [
    {
     "name": "stdout",
     "output_type": "stream",
     "text": [
      "第二类的AUC值为： 0.9744897959183674\n"
     ]
    }
   ],
   "source": [
    "# 为曲线与FPR轴的面积\n",
    "auc_area1 = 0\n",
    "for i in range(1, len(TPRs1)):\n",
    "    if FPRs1[i] != FPRs1[i - 1]:\n",
    "        l1 = 0\n",
    "        k1 = i\n",
    "        # 计算横轴长度\n",
    "        while(k1):\n",
    "            if FPRs1[k1] != FPRs1[k1 - 1]:\n",
    "                l1 += FPRs1[k1] - FPRs1[k1 - 1]\n",
    "                k1 -= 1\n",
    "            else:\n",
    "                break\n",
    "        auc_area1 += l1 * TPRs1[i] # 横轴乘纵轴\n",
    "print(\"第二类的AUC值为：\", auc_area1)"
   ]
  },
  {
   "cell_type": "code",
   "execution_count": 98,
   "id": "b063f2ee-15c9-4434-b884-76bde11d46fd",
   "metadata": {},
   "outputs": [
    {
     "name": "stdout",
     "output_type": "stream",
     "text": [
      "第三类的AUC值为： 1.09\n"
     ]
    }
   ],
   "source": [
    "# 为曲线与FPR轴的面积\n",
    "auc_area2 = 0\n",
    "for i in range(1, len(TPRs2)):\n",
    "    if FPRs2[i] != FPRs2[i - 1]:\n",
    "        l2 = 0\n",
    "        k2 = i\n",
    "        # 计算横轴长度\n",
    "        while(k2):\n",
    "            if FPRs2[k2] != FPRs2[k2 - 1]:\n",
    "                l2 += FPRs2[k2] - FPRs2[k2 - 1]\n",
    "                k2 -= 1\n",
    "            else:\n",
    "                break\n",
    "        auc_area2 += l2 * TPRs2[i] # 横轴乘纵轴\n",
    "print(\"第三类的AUC值为：\", auc_area2)"
   ]
  },
  {
   "cell_type": "markdown",
   "metadata": {},
   "source": [
    "## 拓展要求"
   ]
  },
  {
   "cell_type": "code",
   "execution_count": null,
   "id": "2b5351c6-c11a-4f92-a95d-d5f953995af5",
   "metadata": {},
   "outputs": [],
   "source": []
  },
  {
   "cell_type": "markdown",
   "metadata": {},
   "source": [
    "ROC曲线（Receiver Operating Characteristic Curve）和AUC值（Area Under the Curve）常被用作分类模型的评价指标，以下是关于其合理性的分析：\n",
    "\n",
    "对不平衡数据集的有效性：在处理不平衡数据集时，ROC曲线和AUC值是合理的评价指标。不平衡数据集指的是正负样本比例严重失衡的情况，如金融欺诈检测、罕见疾病诊断等。ROC曲线能够展示分类器在不同阈值下的真阳性率（TPR）和假阳性率（FPR），而AUC值则是ROC曲线下的面积，其反映了分类器对于不平衡类的真实性能。因此，ROC曲线和AUC值能够全面评估分类器在不平衡数据集上的分类能力。\n",
    "\n",
    "鲁棒性：ROC曲线和AUC值对于不同的分类阈值和不同的分类器都能够提供鲁棒的评价，不会受到阈值选择的影响。ROC曲线以FPR为横轴，TPR为纵轴，可以展示出分类器在不同阈值下的分类性能。而AUC值则是对整个曲线下的面积进行求解，不受具体阈值的影响，因此能够客观地评估分类器的性能。\n",
    "\n",
    "易于比较不同模型：由于ROC曲线和AUC值对于不同分类器都提供了相对公平的评价，因此它们能够用于比较不同模型的性能。通过对比不同模型的ROC曲线和AUC值，可以直观地判断分类器的优劣，选择最佳的分类模型。\n",
    "\n",
    "然而需要注意的是，ROC曲线和AUC值也有一些局限性。它们只能评估二分类问题的性能，对于多类别问题需要进行适当的转换和处理。此外，ROC曲线和AUC值对于样本的排序和排名信息敏感，如果样本之间存在明显的重叠或交叉，则可能导致评估结果不准确。\n",
    "\n",
    "综上所述，ROC曲线和AUC值作为分类评价的合理性主要体现在它们对于不平衡数据集的有效性、鲁棒性和比较不同模型的能力。但在使用时需要注意其适用范围和局限性，并结合具体问题和需求进行综合评估。"
   ]
  },
  {
   "cell_type": "code",
   "execution_count": null,
   "id": "f148a379-355c-4bd5-89b8-234314e4f101",
   "metadata": {},
   "outputs": [],
   "source": []
  },
  {
   "cell_type": "markdown",
   "metadata": {},
   "source": [
    "## 总结与展望"
   ]
  },
  {
   "cell_type": "markdown",
   "metadata": {},
   "source": [
    "### 总结\n",
    "- 本次是机器学习的第四次实验，完成实验的过程中对朴素贝叶斯分类器更加的了解，学习了很多的相关知识。\n",
    "- 在本次实验中也了解了贝叶斯分类的原理\n",
    "- 在本次实验中也知道了重新回顾了AUC值和ROC曲线的相关知识，我们可以将相应的内容在合适的框架内进行运行，这样我们的计算就能够用更加方便的方法。\n",
    "- 最后也对手写机器学习算法更加的熟悉，体会到其与调用一些相关的库解决问题存在的相同和不同\n",
    "- 最后我们比较了AUC值，ROC值的优缺点，也对我们使用其作为分类依据的场景和要求更多的理解"
   ]
  }
 ],
 "metadata": {
  "kernelspec": {
   "display_name": "Python 3 (ipykernel)",
   "language": "python",
   "name": "python3"
  },
  "language_info": {
   "codemirror_mode": {
    "name": "ipython",
    "version": 3
   },
   "file_extension": ".py",
   "mimetype": "text/x-python",
   "name": "python",
   "nbconvert_exporter": "python",
   "pygments_lexer": "ipython3",
   "version": "3.10.8"
  }
 },
 "nbformat": 4,
 "nbformat_minor": 5
}
